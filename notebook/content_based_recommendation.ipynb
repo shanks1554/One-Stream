{
 "cells": [
  {
   "cell_type": "markdown",
   "id": "b70a55a7",
   "metadata": {},
   "source": [
    "## Imports & Paths"
   ]
  },
  {
   "cell_type": "code",
   "execution_count": null,
   "id": "ea8e5f8a",
   "metadata": {},
   "outputs": [],
   "source": [
    "from pathlib import Path\n",
    "import pandas as pd\n",
    "import numpy as np"
   ]
  },
  {
   "cell_type": "code",
   "execution_count": 2,
   "id": "7f05a43a",
   "metadata": {},
   "outputs": [],
   "source": [
    "FEAT_CSV = Path('../models/anime_features.csv')"
   ]
  },
  {
   "cell_type": "code",
   "execution_count": 3,
   "id": "d34484db",
   "metadata": {},
   "outputs": [
    {
     "name": "stdout",
     "output_type": "stream",
     "text": [
      "Feature file found: ..\\models\\anime_features.csv\n"
     ]
    }
   ],
   "source": [
    "assert FEAT_CSV.exists(), f\"{FEAT_CSV} not found — run feature‑builder first!\"\n",
    "print(\"Feature file found:\", FEAT_CSV)"
   ]
  },
  {
   "cell_type": "markdown",
   "id": "f2cec847",
   "metadata": {},
   "source": [
    "## Load Feature Table"
   ]
  },
  {
   "cell_type": "code",
   "execution_count": 4,
   "id": "0001370a",
   "metadata": {},
   "outputs": [],
   "source": [
    "feat_df = pd.read_csv(FEAT_CSV)"
   ]
  },
  {
   "cell_type": "code",
   "execution_count": 5,
   "id": "1e3f262e",
   "metadata": {},
   "outputs": [],
   "source": [
    "feature_cols = feat_df.columns.difference(['anime_id','title'])\n",
    "feat_matrix = feat_df[feature_cols].values"
   ]
  },
  {
   "cell_type": "code",
   "execution_count": 6,
   "id": "619b428c",
   "metadata": {},
   "outputs": [
    {
     "name": "stdout",
     "output_type": "stream",
     "text": [
      "Loaded feature matrix: (13231, 93)\n"
     ]
    },
    {
     "data": {
      "application/vnd.microsoft.datawrangler.viewer.v0+json": {
       "columns": [
        {
         "name": "index",
         "rawType": "int64",
         "type": "integer"
        },
        {
         "name": "anime_id",
         "rawType": "int64",
         "type": "integer"
        },
        {
         "name": "title",
         "rawType": "object",
         "type": "string"
        },
        {
         "name": "genre_Action",
         "rawType": "int64",
         "type": "integer"
        },
        {
         "name": "genre_Adult Cast",
         "rawType": "int64",
         "type": "integer"
        },
        {
         "name": "genre_Adventure",
         "rawType": "int64",
         "type": "integer"
        },
        {
         "name": "genre_Anthropomorphic",
         "rawType": "int64",
         "type": "integer"
        },
        {
         "name": "genre_Avant Garde",
         "rawType": "int64",
         "type": "integer"
        },
        {
         "name": "genre_Award Winning",
         "rawType": "int64",
         "type": "integer"
        },
        {
         "name": "genre_Boys Love",
         "rawType": "int64",
         "type": "integer"
        },
        {
         "name": "genre_Cgdct",
         "rawType": "int64",
         "type": "integer"
        },
        {
         "name": "genre_Childcare",
         "rawType": "int64",
         "type": "integer"
        },
        {
         "name": "genre_Combat Sports",
         "rawType": "int64",
         "type": "integer"
        },
        {
         "name": "genre_Comedy",
         "rawType": "int64",
         "type": "integer"
        },
        {
         "name": "genre_Crossdressing",
         "rawType": "int64",
         "type": "integer"
        },
        {
         "name": "genre_Delinquents",
         "rawType": "int64",
         "type": "integer"
        },
        {
         "name": "genre_Detective",
         "rawType": "int64",
         "type": "integer"
        },
        {
         "name": "genre_Drama",
         "rawType": "int64",
         "type": "integer"
        },
        {
         "name": "genre_Ecchi",
         "rawType": "int64",
         "type": "integer"
        },
        {
         "name": "genre_Educational",
         "rawType": "int64",
         "type": "integer"
        },
        {
         "name": "genre_Fantasy",
         "rawType": "int64",
         "type": "integer"
        },
        {
         "name": "genre_Gag Humor",
         "rawType": "int64",
         "type": "integer"
        },
        {
         "name": "genre_Girls Love",
         "rawType": "int64",
         "type": "integer"
        },
        {
         "name": "genre_Gore",
         "rawType": "int64",
         "type": "integer"
        },
        {
         "name": "genre_Gourmet",
         "rawType": "int64",
         "type": "integer"
        },
        {
         "name": "genre_Harem",
         "rawType": "int64",
         "type": "integer"
        },
        {
         "name": "genre_High Stakes Game",
         "rawType": "int64",
         "type": "integer"
        },
        {
         "name": "genre_Historical",
         "rawType": "int64",
         "type": "integer"
        },
        {
         "name": "genre_Horror",
         "rawType": "int64",
         "type": "integer"
        },
        {
         "name": "genre_Idols (Female)",
         "rawType": "int64",
         "type": "integer"
        },
        {
         "name": "genre_Idols (Male)",
         "rawType": "int64",
         "type": "integer"
        },
        {
         "name": "genre_Isekai",
         "rawType": "int64",
         "type": "integer"
        },
        {
         "name": "genre_Iyashikei",
         "rawType": "int64",
         "type": "integer"
        },
        {
         "name": "genre_Josei",
         "rawType": "int64",
         "type": "integer"
        },
        {
         "name": "genre_Kids",
         "rawType": "int64",
         "type": "integer"
        },
        {
         "name": "genre_Love Polygon",
         "rawType": "int64",
         "type": "integer"
        },
        {
         "name": "genre_Love Status Quo",
         "rawType": "int64",
         "type": "integer"
        },
        {
         "name": "genre_Magical Sex Shift",
         "rawType": "int64",
         "type": "integer"
        },
        {
         "name": "genre_Mahou Shoujo",
         "rawType": "int64",
         "type": "integer"
        },
        {
         "name": "genre_Martial Arts",
         "rawType": "int64",
         "type": "integer"
        },
        {
         "name": "genre_Mecha",
         "rawType": "int64",
         "type": "integer"
        },
        {
         "name": "genre_Medical",
         "rawType": "int64",
         "type": "integer"
        },
        {
         "name": "genre_Military",
         "rawType": "int64",
         "type": "integer"
        },
        {
         "name": "genre_Music",
         "rawType": "int64",
         "type": "integer"
        },
        {
         "name": "genre_Mystery",
         "rawType": "int64",
         "type": "integer"
        },
        {
         "name": "genre_Mythology",
         "rawType": "int64",
         "type": "integer"
        },
        {
         "name": "genre_Organized Crime",
         "rawType": "int64",
         "type": "integer"
        },
        {
         "name": "genre_Otaku Culture",
         "rawType": "int64",
         "type": "integer"
        },
        {
         "name": "genre_Parody",
         "rawType": "int64",
         "type": "integer"
        },
        {
         "name": "genre_Performing Arts",
         "rawType": "int64",
         "type": "integer"
        },
        {
         "name": "genre_Pets",
         "rawType": "int64",
         "type": "integer"
        },
        {
         "name": "genre_Psychological",
         "rawType": "int64",
         "type": "integer"
        },
        {
         "name": "genre_Racing",
         "rawType": "int64",
         "type": "integer"
        },
        {
         "name": "genre_Reincarnation",
         "rawType": "int64",
         "type": "integer"
        },
        {
         "name": "genre_Reverse Harem",
         "rawType": "int64",
         "type": "integer"
        },
        {
         "name": "genre_Romance",
         "rawType": "int64",
         "type": "integer"
        },
        {
         "name": "genre_Samurai",
         "rawType": "int64",
         "type": "integer"
        },
        {
         "name": "genre_School",
         "rawType": "int64",
         "type": "integer"
        },
        {
         "name": "genre_Sci-Fi",
         "rawType": "int64",
         "type": "integer"
        },
        {
         "name": "genre_Seinen",
         "rawType": "int64",
         "type": "integer"
        },
        {
         "name": "genre_Shoujo",
         "rawType": "int64",
         "type": "integer"
        },
        {
         "name": "genre_Shounen",
         "rawType": "int64",
         "type": "integer"
        },
        {
         "name": "genre_Showbiz",
         "rawType": "int64",
         "type": "integer"
        },
        {
         "name": "genre_Slice Of Life",
         "rawType": "int64",
         "type": "integer"
        },
        {
         "name": "genre_Space",
         "rawType": "int64",
         "type": "integer"
        },
        {
         "name": "genre_Sports",
         "rawType": "int64",
         "type": "integer"
        },
        {
         "name": "genre_Strategy Game",
         "rawType": "int64",
         "type": "integer"
        },
        {
         "name": "genre_Super Power",
         "rawType": "int64",
         "type": "integer"
        },
        {
         "name": "genre_Supernatural",
         "rawType": "int64",
         "type": "integer"
        },
        {
         "name": "genre_Survival",
         "rawType": "int64",
         "type": "integer"
        },
        {
         "name": "genre_Suspense",
         "rawType": "int64",
         "type": "integer"
        },
        {
         "name": "genre_Team Sports",
         "rawType": "int64",
         "type": "integer"
        },
        {
         "name": "genre_Time Travel",
         "rawType": "int64",
         "type": "integer"
        },
        {
         "name": "genre_Urban Fantasy",
         "rawType": "int64",
         "type": "integer"
        },
        {
         "name": "genre_Vampire",
         "rawType": "int64",
         "type": "integer"
        },
        {
         "name": "genre_Video Game",
         "rawType": "int64",
         "type": "integer"
        },
        {
         "name": "genre_Villainess",
         "rawType": "int64",
         "type": "integer"
        },
        {
         "name": "genre_Visual Arts",
         "rawType": "int64",
         "type": "integer"
        },
        {
         "name": "genre_Workplace",
         "rawType": "int64",
         "type": "integer"
        },
        {
         "name": "type_Movie",
         "rawType": "int64",
         "type": "integer"
        },
        {
         "name": "type_Music",
         "rawType": "int64",
         "type": "integer"
        },
        {
         "name": "type_ONA",
         "rawType": "int64",
         "type": "integer"
        },
        {
         "name": "type_OVA",
         "rawType": "int64",
         "type": "integer"
        },
        {
         "name": "type_Special",
         "rawType": "int64",
         "type": "integer"
        },
        {
         "name": "type_TV",
         "rawType": "int64",
         "type": "integer"
        },
        {
         "name": "type_Unknown",
         "rawType": "int64",
         "type": "integer"
        },
        {
         "name": "hist_score-10",
         "rawType": "int64",
         "type": "integer"
        },
        {
         "name": "hist_score-9",
         "rawType": "int64",
         "type": "integer"
        },
        {
         "name": "hist_score-8",
         "rawType": "int64",
         "type": "integer"
        },
        {
         "name": "hist_score-7",
         "rawType": "int64",
         "type": "integer"
        },
        {
         "name": "hist_score-6",
         "rawType": "int64",
         "type": "integer"
        },
        {
         "name": "hist_score-5",
         "rawType": "int64",
         "type": "integer"
        },
        {
         "name": "hist_score-4",
         "rawType": "int64",
         "type": "integer"
        },
        {
         "name": "hist_score-3",
         "rawType": "int64",
         "type": "integer"
        },
        {
         "name": "hist_score-2",
         "rawType": "int64",
         "type": "integer"
        },
        {
         "name": "hist_score-1",
         "rawType": "int64",
         "type": "integer"
        }
       ],
       "ref": "f910f744-364b-4e2b-bf01-de7bb30ad18c",
       "rows": [
        [
         "0",
         "1",
         "Frieren: Beyond Journey's End",
         "0",
         "0",
         "1",
         "0",
         "0",
         "0",
         "0",
         "0",
         "0",
         "0",
         "0",
         "0",
         "0",
         "0",
         "1",
         "0",
         "0",
         "1",
         "0",
         "0",
         "0",
         "0",
         "0",
         "0",
         "0",
         "0",
         "0",
         "0",
         "0",
         "0",
         "0",
         "0",
         "0",
         "0",
         "0",
         "0",
         "0",
         "0",
         "0",
         "0",
         "0",
         "0",
         "0",
         "0",
         "0",
         "0",
         "0",
         "0",
         "0",
         "0",
         "0",
         "0",
         "0",
         "0",
         "0",
         "0",
         "0",
         "0",
         "1",
         "0",
         "0",
         "0",
         "0",
         "0",
         "0",
         "0",
         "0",
         "0",
         "0",
         "0",
         "0",
         "0",
         "0",
         "0",
         "0",
         "0",
         "0",
         "0",
         "0",
         "0",
         "0",
         "0",
         "0",
         "0",
         "1",
         "0",
         "0",
         "0",
         "0",
         "0",
         "0",
         "0",
         "0"
        ],
        [
         "1",
         "2",
         "Fullmetal Alchemist: Brotherhood",
         "1",
         "0",
         "1",
         "0",
         "0",
         "0",
         "0",
         "0",
         "0",
         "0",
         "0",
         "0",
         "0",
         "0",
         "1",
         "0",
         "0",
         "1",
         "0",
         "0",
         "0",
         "0",
         "0",
         "0",
         "0",
         "0",
         "0",
         "0",
         "0",
         "0",
         "0",
         "0",
         "0",
         "0",
         "0",
         "0",
         "0",
         "0",
         "0",
         "1",
         "0",
         "0",
         "0",
         "0",
         "0",
         "0",
         "0",
         "0",
         "0",
         "0",
         "0",
         "0",
         "0",
         "0",
         "0",
         "0",
         "0",
         "0",
         "1",
         "0",
         "0",
         "0",
         "0",
         "0",
         "0",
         "0",
         "0",
         "0",
         "0",
         "0",
         "0",
         "0",
         "0",
         "0",
         "0",
         "0",
         "0",
         "0",
         "0",
         "0",
         "0",
         "0",
         "0",
         "0",
         "1",
         "0",
         "0",
         "0",
         "0",
         "0",
         "0",
         "0",
         "0"
        ],
        [
         "2",
         "3",
         "Steins;Gate",
         "0",
         "0",
         "0",
         "0",
         "0",
         "0",
         "0",
         "0",
         "0",
         "0",
         "0",
         "0",
         "0",
         "0",
         "1",
         "0",
         "0",
         "0",
         "0",
         "0",
         "0",
         "0",
         "0",
         "0",
         "0",
         "0",
         "0",
         "0",
         "0",
         "0",
         "0",
         "0",
         "0",
         "0",
         "0",
         "0",
         "0",
         "0",
         "0",
         "0",
         "0",
         "0",
         "0",
         "0",
         "0",
         "0",
         "0",
         "0",
         "1",
         "0",
         "0",
         "0",
         "0",
         "0",
         "0",
         "1",
         "0",
         "0",
         "0",
         "0",
         "0",
         "0",
         "0",
         "0",
         "0",
         "0",
         "0",
         "1",
         "0",
         "1",
         "0",
         "0",
         "0",
         "0",
         "0",
         "0",
         "0",
         "0",
         "0",
         "0",
         "0",
         "0",
         "0",
         "0",
         "1",
         "0",
         "0",
         "0",
         "0",
         "0",
         "0",
         "0",
         "0"
        ]
       ],
       "shape": {
        "columns": 95,
        "rows": 3
       }
      },
      "text/html": [
       "<div>\n",
       "<style scoped>\n",
       "    .dataframe tbody tr th:only-of-type {\n",
       "        vertical-align: middle;\n",
       "    }\n",
       "\n",
       "    .dataframe tbody tr th {\n",
       "        vertical-align: top;\n",
       "    }\n",
       "\n",
       "    .dataframe thead th {\n",
       "        text-align: right;\n",
       "    }\n",
       "</style>\n",
       "<table border=\"1\" class=\"dataframe\">\n",
       "  <thead>\n",
       "    <tr style=\"text-align: right;\">\n",
       "      <th></th>\n",
       "      <th>anime_id</th>\n",
       "      <th>title</th>\n",
       "      <th>genre_Action</th>\n",
       "      <th>genre_Adult Cast</th>\n",
       "      <th>genre_Adventure</th>\n",
       "      <th>genre_Anthropomorphic</th>\n",
       "      <th>genre_Avant Garde</th>\n",
       "      <th>genre_Award Winning</th>\n",
       "      <th>genre_Boys Love</th>\n",
       "      <th>genre_Cgdct</th>\n",
       "      <th>...</th>\n",
       "      <th>hist_score-10</th>\n",
       "      <th>hist_score-9</th>\n",
       "      <th>hist_score-8</th>\n",
       "      <th>hist_score-7</th>\n",
       "      <th>hist_score-6</th>\n",
       "      <th>hist_score-5</th>\n",
       "      <th>hist_score-4</th>\n",
       "      <th>hist_score-3</th>\n",
       "      <th>hist_score-2</th>\n",
       "      <th>hist_score-1</th>\n",
       "    </tr>\n",
       "  </thead>\n",
       "  <tbody>\n",
       "    <tr>\n",
       "      <th>0</th>\n",
       "      <td>1</td>\n",
       "      <td>Frieren: Beyond Journey's End</td>\n",
       "      <td>0</td>\n",
       "      <td>0</td>\n",
       "      <td>1</td>\n",
       "      <td>0</td>\n",
       "      <td>0</td>\n",
       "      <td>0</td>\n",
       "      <td>0</td>\n",
       "      <td>0</td>\n",
       "      <td>...</td>\n",
       "      <td>0</td>\n",
       "      <td>1</td>\n",
       "      <td>0</td>\n",
       "      <td>0</td>\n",
       "      <td>0</td>\n",
       "      <td>0</td>\n",
       "      <td>0</td>\n",
       "      <td>0</td>\n",
       "      <td>0</td>\n",
       "      <td>0</td>\n",
       "    </tr>\n",
       "    <tr>\n",
       "      <th>1</th>\n",
       "      <td>2</td>\n",
       "      <td>Fullmetal Alchemist: Brotherhood</td>\n",
       "      <td>1</td>\n",
       "      <td>0</td>\n",
       "      <td>1</td>\n",
       "      <td>0</td>\n",
       "      <td>0</td>\n",
       "      <td>0</td>\n",
       "      <td>0</td>\n",
       "      <td>0</td>\n",
       "      <td>...</td>\n",
       "      <td>0</td>\n",
       "      <td>1</td>\n",
       "      <td>0</td>\n",
       "      <td>0</td>\n",
       "      <td>0</td>\n",
       "      <td>0</td>\n",
       "      <td>0</td>\n",
       "      <td>0</td>\n",
       "      <td>0</td>\n",
       "      <td>0</td>\n",
       "    </tr>\n",
       "    <tr>\n",
       "      <th>2</th>\n",
       "      <td>3</td>\n",
       "      <td>Steins;Gate</td>\n",
       "      <td>0</td>\n",
       "      <td>0</td>\n",
       "      <td>0</td>\n",
       "      <td>0</td>\n",
       "      <td>0</td>\n",
       "      <td>0</td>\n",
       "      <td>0</td>\n",
       "      <td>0</td>\n",
       "      <td>...</td>\n",
       "      <td>0</td>\n",
       "      <td>1</td>\n",
       "      <td>0</td>\n",
       "      <td>0</td>\n",
       "      <td>0</td>\n",
       "      <td>0</td>\n",
       "      <td>0</td>\n",
       "      <td>0</td>\n",
       "      <td>0</td>\n",
       "      <td>0</td>\n",
       "    </tr>\n",
       "  </tbody>\n",
       "</table>\n",
       "<p>3 rows × 95 columns</p>\n",
       "</div>"
      ],
      "text/plain": [
       "   anime_id                             title  genre_Action  genre_Adult Cast  \\\n",
       "0         1     Frieren: Beyond Journey's End             0                 0   \n",
       "1         2  Fullmetal Alchemist: Brotherhood             1                 0   \n",
       "2         3                       Steins;Gate             0                 0   \n",
       "\n",
       "   genre_Adventure  genre_Anthropomorphic  genre_Avant Garde  \\\n",
       "0                1                      0                  0   \n",
       "1                1                      0                  0   \n",
       "2                0                      0                  0   \n",
       "\n",
       "   genre_Award Winning  genre_Boys Love  genre_Cgdct  ...  hist_score-10  \\\n",
       "0                    0                0            0  ...              0   \n",
       "1                    0                0            0  ...              0   \n",
       "2                    0                0            0  ...              0   \n",
       "\n",
       "   hist_score-9  hist_score-8  hist_score-7  hist_score-6  hist_score-5  \\\n",
       "0             1             0             0             0             0   \n",
       "1             1             0             0             0             0   \n",
       "2             1             0             0             0             0   \n",
       "\n",
       "   hist_score-4  hist_score-3  hist_score-2  hist_score-1  \n",
       "0             0             0             0             0  \n",
       "1             0             0             0             0  \n",
       "2             0             0             0             0  \n",
       "\n",
       "[3 rows x 95 columns]"
      ]
     },
     "execution_count": 6,
     "metadata": {},
     "output_type": "execute_result"
    }
   ],
   "source": [
    "print(\"Loaded feature matrix:\", feat_matrix.shape)\n",
    "feat_df.head(3)"
   ]
  },
  {
   "cell_type": "code",
   "execution_count": 7,
   "id": "f2c92c69",
   "metadata": {},
   "outputs": [],
   "source": [
    "title_to_idx = {\n",
    "    t.lower(): i\n",
    "    for i, t in enumerate(feat_df[\"title\"])\n",
    "    if isinstance(t, str) and t.strip()          # skip blanks / NaNs\n",
    "}\n"
   ]
  },
  {
   "cell_type": "code",
   "execution_count": 8,
   "id": "ab375fe9",
   "metadata": {},
   "outputs": [],
   "source": [
    "def titles_to_indices(titles):\n",
    "    idxs = [title_to_idx.get(t.strip().lower()) for t in titles]\n",
    "    return [i for i in idxs if i is not None]"
   ]
  },
  {
   "cell_type": "markdown",
   "id": "68ae9c23",
   "metadata": {},
   "source": [
    "## Core recommender"
   ]
  },
  {
   "cell_type": "code",
   "execution_count": 9,
   "id": "eaece74b",
   "metadata": {},
   "outputs": [],
   "source": [
    "def recommend_from_titles(\n",
    "    liked_titles: list[str],\n",
    "    k: int = 10,\n",
    "    genre_filter: list[str] | None = None\n",
    "):\n",
    "    idxs = titles_to_indices(liked_titles)\n",
    "    if not idxs:\n",
    "        raise ValueError(\"None of the provided titles found in the catalogue.\")\n",
    "    \n",
    "    # Build user profile vector (sum because rows are L2‑normalised)\n",
    "    user_vec = feat_matrix[idxs].sum(axis=0, keepdims=True)\n",
    "\n",
    "    # Cosine similarity = dot product\n",
    "    scores = (user_vec @ feat_matrix.T).ravel()\n",
    "    scores[idxs] = -1.0    # exclude watched\n",
    "    \n",
    "    # Optional genre gating\n",
    "    if genre_filter:\n",
    "        gcols = [f\"genre_{g.strip().title()}\" for g in genre_filter]\n",
    "        gcols = [c for c in gcols if c in feature_cols]\n",
    "        if gcols:\n",
    "            mask = feat_df[gcols].sum(axis=1) > 0\n",
    "            scores = np.where(mask, scores, -1.0)\n",
    "    \n",
    "    best = scores.argsort()[-k:][::-1]\n",
    "    return (\n",
    "        feat_df.loc[best, [\"title\", \"anime_id\"]]\n",
    "        .assign(similarity=scores[best].round(4))\n",
    "        .reset_index(drop=True)\n",
    "    )"
   ]
  },
  {
   "cell_type": "code",
   "execution_count": 10,
   "id": "b7a4b13a",
   "metadata": {},
   "outputs": [
    {
     "name": "stdout",
     "output_type": "stream",
     "text": [
      "Top 5 overall recommendations:\n"
     ]
    },
    {
     "data": {
      "application/vnd.microsoft.datawrangler.viewer.v0+json": {
       "columns": [
        {
         "name": "index",
         "rawType": "int64",
         "type": "integer"
        },
        {
         "name": "title",
         "rawType": "object",
         "type": "string"
        },
        {
         "name": "anime_id",
         "rawType": "int64",
         "type": "integer"
        },
        {
         "name": "similarity",
         "rawType": "int64",
         "type": "integer"
        }
       ],
       "ref": "6b69e06e-2b74-49a9-a2b6-219e3e0e76cf",
       "rows": [
        [
         "0",
         "Hunter x Hunter",
         "8",
         "5"
        ],
        [
         "1",
         "Fullmetal Alchemist: Brotherhood",
         "2",
         "5"
        ],
        [
         "2",
         "One Piece Fan Letter",
         "5",
         "5"
        ],
        [
         "3",
         "Dragon Ball Z: Fusion Reborn",
         "1525",
         "4"
        ],
        [
         "4",
         "Naruto Shippuden the Movie 5: Blood Prison",
         "2093",
         "4"
        ]
       ],
       "shape": {
        "columns": 3,
        "rows": 5
       }
      },
      "text/html": [
       "<div>\n",
       "<style scoped>\n",
       "    .dataframe tbody tr th:only-of-type {\n",
       "        vertical-align: middle;\n",
       "    }\n",
       "\n",
       "    .dataframe tbody tr th {\n",
       "        vertical-align: top;\n",
       "    }\n",
       "\n",
       "    .dataframe thead th {\n",
       "        text-align: right;\n",
       "    }\n",
       "</style>\n",
       "<table border=\"1\" class=\"dataframe\">\n",
       "  <thead>\n",
       "    <tr style=\"text-align: right;\">\n",
       "      <th></th>\n",
       "      <th>title</th>\n",
       "      <th>anime_id</th>\n",
       "      <th>similarity</th>\n",
       "    </tr>\n",
       "  </thead>\n",
       "  <tbody>\n",
       "    <tr>\n",
       "      <th>0</th>\n",
       "      <td>Hunter x Hunter</td>\n",
       "      <td>8</td>\n",
       "      <td>5</td>\n",
       "    </tr>\n",
       "    <tr>\n",
       "      <th>1</th>\n",
       "      <td>Fullmetal Alchemist: Brotherhood</td>\n",
       "      <td>2</td>\n",
       "      <td>5</td>\n",
       "    </tr>\n",
       "    <tr>\n",
       "      <th>2</th>\n",
       "      <td>One Piece Fan Letter</td>\n",
       "      <td>5</td>\n",
       "      <td>5</td>\n",
       "    </tr>\n",
       "    <tr>\n",
       "      <th>3</th>\n",
       "      <td>Dragon Ball Z: Fusion Reborn</td>\n",
       "      <td>1525</td>\n",
       "      <td>4</td>\n",
       "    </tr>\n",
       "    <tr>\n",
       "      <th>4</th>\n",
       "      <td>Naruto Shippuden the Movie 5: Blood Prison</td>\n",
       "      <td>2093</td>\n",
       "      <td>4</td>\n",
       "    </tr>\n",
       "  </tbody>\n",
       "</table>\n",
       "</div>"
      ],
      "text/plain": [
       "                                        title  anime_id  similarity\n",
       "0                             Hunter x Hunter         8           5\n",
       "1            Fullmetal Alchemist: Brotherhood         2           5\n",
       "2                        One Piece Fan Letter         5           5\n",
       "3                Dragon Ball Z: Fusion Reborn      1525           4\n",
       "4  Naruto Shippuden the Movie 5: Blood Prison      2093           4"
      ]
     },
     "metadata": {},
     "output_type": "display_data"
    }
   ],
   "source": [
    "liked = [\"One Piece\"]\n",
    "\n",
    "print(\"Top 5 overall recommendations:\")\n",
    "display(recommend_from_titles(liked, k=5))"
   ]
  },
  {
   "cell_type": "code",
   "execution_count": 11,
   "id": "9c1d0b0e",
   "metadata": {},
   "outputs": [
    {
     "name": "stdout",
     "output_type": "stream",
     "text": [
      "Top 5 *Action* recommendations:\n"
     ]
    },
    {
     "data": {
      "application/vnd.microsoft.datawrangler.viewer.v0+json": {
       "columns": [
        {
         "name": "index",
         "rawType": "int64",
         "type": "integer"
        },
        {
         "name": "title",
         "rawType": "object",
         "type": "string"
        },
        {
         "name": "anime_id",
         "rawType": "int64",
         "type": "integer"
        },
        {
         "name": "similarity",
         "rawType": "float64",
         "type": "float"
        }
       ],
       "ref": "17cc7088-b47d-4e6f-a017-4b745872542f",
       "rows": [
        [
         "0",
         "One Piece Fan Letter",
         "5",
         "5.0"
        ],
        [
         "1",
         "Hunter x Hunter",
         "8",
         "5.0"
        ],
        [
         "2",
         "Fullmetal Alchemist: Brotherhood",
         "2",
         "5.0"
        ],
        [
         "3",
         "One Piece: Open Upon the Great Sea! A Father's Huge, HUGE Dream!",
         "3385",
         "4.0"
        ],
        [
         "4",
         "Naruto Shippuden the Movie 4: The Lost Tower",
         "2223",
         "4.0"
        ]
       ],
       "shape": {
        "columns": 3,
        "rows": 5
       }
      },
      "text/html": [
       "<div>\n",
       "<style scoped>\n",
       "    .dataframe tbody tr th:only-of-type {\n",
       "        vertical-align: middle;\n",
       "    }\n",
       "\n",
       "    .dataframe tbody tr th {\n",
       "        vertical-align: top;\n",
       "    }\n",
       "\n",
       "    .dataframe thead th {\n",
       "        text-align: right;\n",
       "    }\n",
       "</style>\n",
       "<table border=\"1\" class=\"dataframe\">\n",
       "  <thead>\n",
       "    <tr style=\"text-align: right;\">\n",
       "      <th></th>\n",
       "      <th>title</th>\n",
       "      <th>anime_id</th>\n",
       "      <th>similarity</th>\n",
       "    </tr>\n",
       "  </thead>\n",
       "  <tbody>\n",
       "    <tr>\n",
       "      <th>0</th>\n",
       "      <td>One Piece Fan Letter</td>\n",
       "      <td>5</td>\n",
       "      <td>5.0</td>\n",
       "    </tr>\n",
       "    <tr>\n",
       "      <th>1</th>\n",
       "      <td>Hunter x Hunter</td>\n",
       "      <td>8</td>\n",
       "      <td>5.0</td>\n",
       "    </tr>\n",
       "    <tr>\n",
       "      <th>2</th>\n",
       "      <td>Fullmetal Alchemist: Brotherhood</td>\n",
       "      <td>2</td>\n",
       "      <td>5.0</td>\n",
       "    </tr>\n",
       "    <tr>\n",
       "      <th>3</th>\n",
       "      <td>One Piece: Open Upon the Great Sea! A Father's...</td>\n",
       "      <td>3385</td>\n",
       "      <td>4.0</td>\n",
       "    </tr>\n",
       "    <tr>\n",
       "      <th>4</th>\n",
       "      <td>Naruto Shippuden the Movie 4: The Lost Tower</td>\n",
       "      <td>2223</td>\n",
       "      <td>4.0</td>\n",
       "    </tr>\n",
       "  </tbody>\n",
       "</table>\n",
       "</div>"
      ],
      "text/plain": [
       "                                               title  anime_id  similarity\n",
       "0                               One Piece Fan Letter         5         5.0\n",
       "1                                    Hunter x Hunter         8         5.0\n",
       "2                   Fullmetal Alchemist: Brotherhood         2         5.0\n",
       "3  One Piece: Open Upon the Great Sea! A Father's...      3385         4.0\n",
       "4       Naruto Shippuden the Movie 4: The Lost Tower      2223         4.0"
      ]
     },
     "metadata": {},
     "output_type": "display_data"
    }
   ],
   "source": [
    "print(\"Top 5 *Action* recommendations:\")\n",
    "display(recommend_from_titles(liked, k=5, genre_filter=[\"Action\"]))"
   ]
  }
 ],
 "metadata": {
  "kernelspec": {
   "display_name": "onestream",
   "language": "python",
   "name": "python3"
  },
  "language_info": {
   "codemirror_mode": {
    "name": "ipython",
    "version": 3
   },
   "file_extension": ".py",
   "mimetype": "text/x-python",
   "name": "python",
   "nbconvert_exporter": "python",
   "pygments_lexer": "ipython3",
   "version": "3.12.11"
  }
 },
 "nbformat": 4,
 "nbformat_minor": 5
}
