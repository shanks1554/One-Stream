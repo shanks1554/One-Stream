{
 "cells": [
  {
   "cell_type": "code",
   "execution_count": 1,
   "id": "f9316871",
   "metadata": {},
   "outputs": [
    {
     "name": "stdout",
     "output_type": "stream",
     "text": [
      "✅  anime_features.csv saved → ..\\models\\anime_features.csv\n",
      "Shape: (13231, 95)\n"
     ]
    }
   ],
   "source": [
    "# ──────────────────────────────────────────────\n",
    "# Build anime_features.csv from clean_anime.csv\n",
    "# ──────────────────────────────────────────────\n",
    "from pathlib import Path\n",
    "import pandas as pd\n",
    "import numpy as np\n",
    "\n",
    "# 0️⃣  LOAD the file you just cleaned\n",
    "df = pd.read_csv(\"../models/clean_anime.csv\")   # adjust path if different\n",
    "\n",
    "# 1️⃣  GENERATE anime_id  (sequential)\n",
    "df = df.reset_index(drop=True)\n",
    "df[\"anime_id\"] = df.index + 1                   # 1 … N\n",
    "\n",
    "# 2️⃣  RENAME title column lowercase\n",
    "df = df.rename(columns={\"Title\": \"title\"})\n",
    "\n",
    "# 3️⃣  MAP genre columns you already have\n",
    "#     They are already 0/1, just add \"genre_\" prefix & Title‑case matching schema\n",
    "genres_already = [\n",
    "    c for c in df.columns\n",
    "    if c not in [\"title\", \"anime_id\"]           # exclude meta\n",
    "       and df[c].dropna().isin([0,1]).all()     # only 0/1 columns\n",
    "]\n",
    "\n",
    "genre_map = {g: f\"genre_{g.title()}\" for g in genres_already}\n",
    "df = df.rename(columns=genre_map)\n",
    "\n",
    "# 4️⃣  CREATE placeholder type_* columns (all 0, since you have no type info yet)\n",
    "TYPES = [\"Movie\",\"Music\",\"ONA\",\"OVA\",\"Special\",\"TV\",\"Unknown\"]\n",
    "for t in TYPES:\n",
    "    df[f\"type_{t}\"] = 0\n",
    "\n",
    "# 5️⃣  APPROXIMATE hist_score‑* with rounded Score  (one‑hot, 10 → 1)\n",
    "HIST = list(range(10,0,-1))\n",
    "score_round = df[\"Score\"].round().clip(lower=1, upper=10).astype(int)\n",
    "for s in HIST:\n",
    "    df[f\"hist_score-{s}\"] = (score_round == s).astype(int)\n",
    "\n",
    "# 6️⃣  KEEP only the required columns – missing genre_* stay absent (OK)\n",
    "keep_cols = (\n",
    "    [\"anime_id\", \"title\"] +\n",
    "    [c for c in df.columns if c.startswith(\"genre_\")] +\n",
    "    [f\"type_{t}\" for t in TYPES] +\n",
    "    [f\"hist_score-{s}\" for s in HIST]\n",
    ")\n",
    "anime_features = df[keep_cols]\n",
    "\n",
    "# 7️⃣  SAVE\n",
    "FEAT_CSV = Path(\"../models/anime_features.csv\")\n",
    "FEAT_CSV.parent.mkdir(parents=True, exist_ok=True)\n",
    "anime_features.to_csv(FEAT_CSV, index=False)\n",
    "print(\"✅  anime_features.csv saved →\", FEAT_CSV)\n",
    "print(\"Shape:\", anime_features.shape)\n"
   ]
  },
  {
   "cell_type": "code",
   "execution_count": null,
   "id": "40dafb83",
   "metadata": {},
   "outputs": [],
   "source": []
  }
 ],
 "metadata": {
  "kernelspec": {
   "display_name": "onestream",
   "language": "python",
   "name": "python3"
  },
  "language_info": {
   "codemirror_mode": {
    "name": "ipython",
    "version": 3
   },
   "file_extension": ".py",
   "mimetype": "text/x-python",
   "name": "python",
   "nbconvert_exporter": "python",
   "pygments_lexer": "ipython3",
   "version": "3.12.11"
  }
 },
 "nbformat": 4,
 "nbformat_minor": 5
}
